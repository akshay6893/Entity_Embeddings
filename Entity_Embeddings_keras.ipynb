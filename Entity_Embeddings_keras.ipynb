{
 "cells": [
  {
   "cell_type": "code",
   "execution_count": 1,
   "metadata": {},
   "outputs": [],
   "source": [
    "from tensorflow.keras.models import Sequential\n",
    "from tensorflow.keras.layers import Dense,Activation,Embedding,Flatten,Dropout\n",
    "from tensorflow.keras.optimizers import Adam,RMSprop \n",
    "from tensorflow.keras.metrics import categorical_crossentropy"
   ]
  },
  {
   "cell_type": "code",
   "execution_count": 2,
   "metadata": {},
   "outputs": [
    {
     "data": {
      "text/html": [
       "<div>\n",
       "<style scoped>\n",
       "    .dataframe tbody tr th:only-of-type {\n",
       "        vertical-align: middle;\n",
       "    }\n",
       "\n",
       "    .dataframe tbody tr th {\n",
       "        vertical-align: top;\n",
       "    }\n",
       "\n",
       "    .dataframe thead th {\n",
       "        text-align: right;\n",
       "    }\n",
       "</style>\n",
       "<table border=\"1\" class=\"dataframe\">\n",
       "  <thead>\n",
       "    <tr style=\"text-align: right;\">\n",
       "      <th></th>\n",
       "      <th>mnth</th>\n",
       "      <th>cnt</th>\n",
       "    </tr>\n",
       "  </thead>\n",
       "  <tbody>\n",
       "    <tr>\n",
       "      <th>0</th>\n",
       "      <td>1</td>\n",
       "      <td>985</td>\n",
       "    </tr>\n",
       "    <tr>\n",
       "      <th>1</th>\n",
       "      <td>1</td>\n",
       "      <td>801</td>\n",
       "    </tr>\n",
       "    <tr>\n",
       "      <th>2</th>\n",
       "      <td>1</td>\n",
       "      <td>1349</td>\n",
       "    </tr>\n",
       "    <tr>\n",
       "      <th>3</th>\n",
       "      <td>1</td>\n",
       "      <td>1562</td>\n",
       "    </tr>\n",
       "    <tr>\n",
       "      <th>4</th>\n",
       "      <td>1</td>\n",
       "      <td>1600</td>\n",
       "    </tr>\n",
       "    <tr>\n",
       "      <th>...</th>\n",
       "      <td>...</td>\n",
       "      <td>...</td>\n",
       "    </tr>\n",
       "    <tr>\n",
       "      <th>726</th>\n",
       "      <td>12</td>\n",
       "      <td>2114</td>\n",
       "    </tr>\n",
       "    <tr>\n",
       "      <th>727</th>\n",
       "      <td>12</td>\n",
       "      <td>3095</td>\n",
       "    </tr>\n",
       "    <tr>\n",
       "      <th>728</th>\n",
       "      <td>12</td>\n",
       "      <td>1341</td>\n",
       "    </tr>\n",
       "    <tr>\n",
       "      <th>729</th>\n",
       "      <td>12</td>\n",
       "      <td>1796</td>\n",
       "    </tr>\n",
       "    <tr>\n",
       "      <th>730</th>\n",
       "      <td>12</td>\n",
       "      <td>2729</td>\n",
       "    </tr>\n",
       "  </tbody>\n",
       "</table>\n",
       "<p>731 rows × 2 columns</p>\n",
       "</div>"
      ],
      "text/plain": [
       "     mnth   cnt\n",
       "0       1   985\n",
       "1       1   801\n",
       "2       1  1349\n",
       "3       1  1562\n",
       "4       1  1600\n",
       "..    ...   ...\n",
       "726    12  2114\n",
       "727    12  3095\n",
       "728    12  1341\n",
       "729    12  1796\n",
       "730    12  2729\n",
       "\n",
       "[731 rows x 2 columns]"
      ]
     },
     "execution_count": 2,
     "metadata": {},
     "output_type": "execute_result"
    }
   ],
   "source": [
    "import pandas as pd\n",
    "bike = pd.read_csv(\"bike.csv\")\n",
    "sub_bike = bike.loc[:,(\"mnth\",\"cnt\")]\n",
    "sub_bike"
   ]
  },
  {
   "cell_type": "code",
   "execution_count": 7,
   "metadata": {},
   "outputs": [
    {
     "name": "stdout",
     "output_type": "stream",
     "text": [
      "Train on 731 samples\n",
      "Epoch 1/25\n",
      "731/731 [==============================] - 2s 3ms/sample - loss: 24033140.6949 - accuracy: 0.0000e+00\n",
      "Epoch 2/25\n",
      "731/731 [==============================] - 0s 527us/sample - loss: 24018027.0315 - accuracy: 0.0000e+00\n",
      "Epoch 3/25\n",
      "731/731 [==============================] - 0s 506us/sample - loss: 23983033.7346 - accuracy: 0.0000e+00\n",
      "Epoch 4/25\n",
      "731/731 [==============================] - 0s 494us/sample - loss: 23914339.9795 - accuracy: 0.0000e+00\n",
      "Epoch 5/25\n",
      "731/731 [==============================] - 0s 472us/sample - loss: 23801329.0698 - accuracy: 0.0000e+00\n",
      "Epoch 6/25\n",
      "731/731 [==============================] - 0s 474us/sample - loss: 23634142.0465 - accuracy: 0.0000e+00\n",
      "Epoch 7/25\n",
      "731/731 [==============================] - 0s 477us/sample - loss: 23368516.8892 - accuracy: 0.0000e+00\n",
      "Epoch 8/25\n",
      "731/731 [==============================] - 0s 477us/sample - loss: 23015297.8700 - accuracy: 0.0000e+00\n",
      "Epoch 9/25\n",
      "731/731 [==============================] - 1s 758us/sample - loss: 22544436.9357 - accuracy: 0.0000e+00\n",
      "Epoch 10/25\n",
      "731/731 [==============================] - 0s 568us/sample - loss: 21919117.3598 - accuracy: 0.0000e+00\n",
      "Epoch 11/25\n",
      "731/731 [==============================] - 0s 536us/sample - loss: 21149162.1888 - accuracy: 0.0000e+00\n",
      "Epoch 12/25\n",
      "731/731 [==============================] - 0s 543us/sample - loss: 20238770.9631 - accuracy: 0.0000e+00\n",
      "Epoch 13/25\n",
      "731/731 [==============================] - 0s 486us/sample - loss: 19098738.4979 - accuracy: 0.0000e+00\n",
      "Epoch 14/25\n",
      "731/731 [==============================] - 0s 481us/sample - loss: 17851145.3146 - accuracy: 0.0000e+00\n",
      "Epoch 15/25\n",
      "731/731 [==============================] - 0s 511us/sample - loss: 16264485.3201 - accuracy: 0.0000e+00\n",
      "Epoch 16/25\n",
      "731/731 [==============================] - 0s 590us/sample - loss: 14662383.0889 - accuracy: 0.0000e+00\n",
      "Epoch 17/25\n",
      "731/731 [==============================] - 0s 615us/sample - loss: 13017690.8345 - accuracy: 0.0000e+00\n",
      "Epoch 18/25\n",
      "731/731 [==============================] - 0s 658us/sample - loss: 11362076.2326 - accuracy: 0.0000e+00\n",
      "Epoch 19/25\n",
      "731/731 [==============================] - 0s 503us/sample - loss: 9551880.4357 - accuracy: 0.0000e+00\n",
      "Epoch 20/25\n",
      "731/731 [==============================] - 0s 600us/sample - loss: 7900050.8454 - accuracy: 0.0000e+00\n",
      "Epoch 21/25\n",
      "731/731 [==============================] - 0s 475us/sample - loss: 7092345.7360 - accuracy: 0.0000e+00\n",
      "Epoch 22/25\n",
      "731/731 [==============================] - 0s 475us/sample - loss: 5610595.8386 - accuracy: 0.0000e+00\n",
      "Epoch 23/25\n",
      "731/731 [==============================] - 0s 478us/sample - loss: 4943585.1529 - accuracy: 0.0000e+00\n",
      "Epoch 24/25\n",
      "731/731 [==============================] - 0s 507us/sample - loss: 4951781.6286 - accuracy: 0.0000e+00\n",
      "Epoch 25/25\n",
      "731/731 [==============================] - 0s 606us/sample - loss: 4590632.2213 - accuracy: 0.0000e+00\n"
     ]
    },
    {
     "data": {
      "text/plain": [
       "<tensorflow.python.keras.callbacks.History at 0x642823450>"
      ]
     },
     "execution_count": 7,
     "metadata": {},
     "output_type": "execute_result"
    }
   ],
   "source": [
    "embedding_size = 3\n",
    "model = Sequential()\n",
    "model.add(Embedding(input_dim = 13, output_dim = embedding_size, input_length = 1, name=\"embedding\"))\n",
    "model.add(Flatten())\n",
    "model.add(Dense(50, activation=\"relu\"))\n",
    "model.add(Dropout(0.4))\n",
    "model.add(Dense(15, activation=\"relu\"))\n",
    "model.add(Dropout(0.2))\n",
    "model.add(Dense(1))\n",
    "model.compile(loss = \"mse\", optimizer = \"RMSprop\",lr = 0.001, metrics=[\"accuracy\"])\n",
    "model.fit(x = sub_bike['mnth'].to_numpy(), y=sub_bike['cnt'].to_numpy() , epochs = 25, batch_size = 8)"
   ]
  },
  {
   "cell_type": "code",
   "execution_count": 8,
   "metadata": {},
   "outputs": [
    {
     "data": {
      "text/plain": [
       "array([[ 0.0468,  0.0344, -0.0034],\n",
       "       [-0.7045,  0.6841,  0.6896],\n",
       "       [-0.8554,  0.7528,  0.8551],\n",
       "       [-1.0254,  0.9842,  1.0083],\n",
       "       [-1.1447,  1.0671,  1.1054],\n",
       "       [-1.2688,  1.29  ,  1.3371],\n",
       "       [-1.332 ,  1.2938,  1.3393],\n",
       "       [-1.3295,  1.2919,  1.3264],\n",
       "       [-1.3252,  1.2705,  1.2624],\n",
       "       [-1.2207,  1.2612,  1.278 ],\n",
       "       [-1.2258,  1.1922,  1.2138],\n",
       "       [-1.146 ,  1.1529,  1.1312],\n",
       "       [-0.9518,  0.9641,  0.995 ]], dtype=float32)"
      ]
     },
     "execution_count": 8,
     "metadata": {},
     "output_type": "execute_result"
    }
   ],
   "source": [
    "fg1 = model.get_weights()[0]\n",
    "from functools import partial\n",
    "import numpy as np\n",
    "normalised3 = []\n",
    "for t in fg1:\n",
    "    n_list = partial(round,ndigits=4)\n",
    "    normalised1 = list(map(n_list,t))\n",
    "    normalised2 = np.asarray(normalised1)\n",
    "    normalised3.append(normalised2)\n",
    "fg2 = np.asarray(normalised3)\n",
    "fg2"
   ]
  },
  {
   "cell_type": "code",
   "execution_count": 9,
   "metadata": {},
   "outputs": [],
   "source": [
    "np.savetxt('weight.csv' , fg2 ,header=\"\", fmt='%s', delimiter=',')"
   ]
  },
  {
   "cell_type": "code",
   "execution_count": 11,
   "metadata": {},
   "outputs": [
    {
     "data": {
      "text/plain": [
       "array([[-0.7045,  0.6841,  0.6896],\n",
       "       [-0.8554,  0.7528,  0.8551],\n",
       "       [-1.0254,  0.9842,  1.0083],\n",
       "       [-1.1447,  1.0671,  1.1054],\n",
       "       [-1.2688,  1.29  ,  1.3371],\n",
       "       [-1.332 ,  1.2938,  1.3393],\n",
       "       [-1.3295,  1.2919,  1.3264],\n",
       "       [-1.3252,  1.2705,  1.2624],\n",
       "       [-1.2207,  1.2612,  1.278 ],\n",
       "       [-1.2258,  1.1922,  1.2138],\n",
       "       [-1.146 ,  1.1529,  1.1312],\n",
       "       [-0.9518,  0.9641,  0.995 ]])"
      ]
     },
     "execution_count": 11,
     "metadata": {},
     "output_type": "execute_result"
    }
   ],
   "source": [
    "fg2 = np.loadtxt('weight.csv',delimiter=',')[1:13,:]\n",
    "fg2"
   ]
  },
  {
   "cell_type": "code",
   "execution_count": null,
   "metadata": {},
   "outputs": [],
   "source": []
  },
  {
   "cell_type": "code",
   "execution_count": null,
   "metadata": {},
   "outputs": [],
   "source": []
  },
  {
   "cell_type": "code",
   "execution_count": null,
   "metadata": {},
   "outputs": [],
   "source": []
  }
 ],
 "metadata": {
  "kernelspec": {
   "display_name": "Python 3",
   "language": "python",
   "name": "python3"
  },
  "language_info": {
   "codemirror_mode": {
    "name": "ipython",
    "version": 3
   },
   "file_extension": ".py",
   "mimetype": "text/x-python",
   "name": "python",
   "nbconvert_exporter": "python",
   "pygments_lexer": "ipython3",
   "version": "3.7.5"
  }
 },
 "nbformat": 4,
 "nbformat_minor": 2
}
